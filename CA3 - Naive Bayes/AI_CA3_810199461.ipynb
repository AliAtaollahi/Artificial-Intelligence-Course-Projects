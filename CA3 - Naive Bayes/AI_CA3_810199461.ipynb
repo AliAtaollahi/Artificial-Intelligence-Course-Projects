{
 "cells": [
  {
   "attachments": {},
   "cell_type": "markdown",
   "id": "04a8f063",
   "metadata": {},
   "source": [
    "In the name of god\n",
    "\n",
    "Ali Ataollahi / 810199461\n",
    "\n",
    "AI_FALL_1401 / CA3 / Naive Bayes\n"
   ]
  },
  {
   "cell_type": "markdown",
   "id": "d9a33367",
   "metadata": {},
   "source": [
    "## Import Dependencies"
   ]
  },
  {
   "cell_type": "code",
   "execution_count": 1,
   "id": "51d58b79",
   "metadata": {},
   "outputs": [],
   "source": [
    "import pandas as pd\n",
    "from math import *\n",
    "from hazm import stopwords_list, Normalizer, word_tokenize\n",
    "from matplotlib import pyplot as plt\n",
    "from operator import itemgetter\n",
    "import arabic_reshaper\n",
    "from bidi.algorithm import get_display"
   ]
  },
  {
   "cell_type": "markdown",
   "id": "604b93db",
   "metadata": {},
   "source": [
    "# Part1 : preprocessing data"
   ]
  },
  {
   "cell_type": "code",
   "execution_count": 2,
   "id": "2d6deb5e",
   "metadata": {},
   "outputs": [],
   "source": [
    "data_train = pd.read_csv('files/train.csv')\n",
    "data_test = pd.read_csv('files/test.csv')"
   ]
  },
  {
   "cell_type": "code",
   "execution_count": 3,
   "id": "62961c80",
   "metadata": {},
   "outputs": [
    {
     "data": {
      "text/html": [
       "<div>\n",
       "<style scoped>\n",
       "    .dataframe tbody tr th:only-of-type {\n",
       "        vertical-align: middle;\n",
       "    }\n",
       "\n",
       "    .dataframe tbody tr th {\n",
       "        vertical-align: top;\n",
       "    }\n",
       "\n",
       "    .dataframe thead th {\n",
       "        text-align: right;\n",
       "    }\n",
       "</style>\n",
       "<table border=\"1\" class=\"dataframe\">\n",
       "  <thead>\n",
       "    <tr style=\"text-align: right;\">\n",
       "      <th></th>\n",
       "      <th>label</th>\n",
       "      <th>content</th>\n",
       "    </tr>\n",
       "  </thead>\n",
       "  <tbody>\n",
       "    <tr>\n",
       "      <th>0</th>\n",
       "      <td>فناوری</td>\n",
       "      <td>گزارش های منتشر شده حاکی از آن است که کاربران ...</td>\n",
       "    </tr>\n",
       "    <tr>\n",
       "      <th>1</th>\n",
       "      <td>ورزشی</td>\n",
       "      <td>سوپر استار سینما و از قهرمانان سابق ووشو ــ کو...</td>\n",
       "    </tr>\n",
       "    <tr>\n",
       "      <th>2</th>\n",
       "      <td>حوادث</td>\n",
       "      <td>مدیرعامل شرکت عمران آب کیش از فوت یک نفر در آت...</td>\n",
       "    </tr>\n",
       "    <tr>\n",
       "      <th>3</th>\n",
       "      <td>فناوری</td>\n",
       "      <td>یک نوجوان انگلیسی به اتهام هک حساب‌های کاربری ...</td>\n",
       "    </tr>\n",
       "    <tr>\n",
       "      <th>4</th>\n",
       "      <td>سلامت</td>\n",
       "      <td>دانشمندان در جدیدترین مطالعات خود اثرات جدید و...</td>\n",
       "    </tr>\n",
       "    <tr>\n",
       "      <th>...</th>\n",
       "      <td>...</td>\n",
       "      <td>...</td>\n",
       "    </tr>\n",
       "    <tr>\n",
       "      <th>8995</th>\n",
       "      <td>حوادث</td>\n",
       "      <td>شانزدهم مهر امسال درپی تماس با مرکز فوریت‌های ...</td>\n",
       "    </tr>\n",
       "    <tr>\n",
       "      <th>8996</th>\n",
       "      <td>ورزشی</td>\n",
       "      <td>اتحادیه فوتبال ترینیداد و توباگو اعلام کرده تی...</td>\n",
       "    </tr>\n",
       "    <tr>\n",
       "      <th>8997</th>\n",
       "      <td>فرهنگی/هنری</td>\n",
       "      <td>اسامی 18 فیلم بخش مسابقه مستند ششمین دوره جشنو...</td>\n",
       "    </tr>\n",
       "    <tr>\n",
       "      <th>8998</th>\n",
       "      <td>حوادث</td>\n",
       "      <td>کامیونت حامل بار تخته‌های چوبی عصر دیروز چهارش...</td>\n",
       "    </tr>\n",
       "    <tr>\n",
       "      <th>8999</th>\n",
       "      <td>فناوری</td>\n",
       "      <td>چهارمین لیگ بازی‌های رایانه‌ای ایران از روز ۶ ...</td>\n",
       "    </tr>\n",
       "  </tbody>\n",
       "</table>\n",
       "<p>9000 rows × 2 columns</p>\n",
       "</div>"
      ],
      "text/plain": [
       "            label                                            content\n",
       "0          فناوری  گزارش های منتشر شده حاکی از آن است که کاربران ...\n",
       "1           ورزشی  سوپر استار سینما و از قهرمانان سابق ووشو ــ کو...\n",
       "2           حوادث  مدیرعامل شرکت عمران آب کیش از فوت یک نفر در آت...\n",
       "3          فناوری  یک نوجوان انگلیسی به اتهام هک حساب‌های کاربری ...\n",
       "4           سلامت  دانشمندان در جدیدترین مطالعات خود اثرات جدید و...\n",
       "...           ...                                                ...\n",
       "8995        حوادث  شانزدهم مهر امسال درپی تماس با مرکز فوریت‌های ...\n",
       "8996        ورزشی  اتحادیه فوتبال ترینیداد و توباگو اعلام کرده تی...\n",
       "8997  فرهنگی/هنری  اسامی 18 فیلم بخش مسابقه مستند ششمین دوره جشنو...\n",
       "8998        حوادث  کامیونت حامل بار تخته‌های چوبی عصر دیروز چهارش...\n",
       "8999       فناوری  چهارمین لیگ بازی‌های رایانه‌ای ایران از روز ۶ ...\n",
       "\n",
       "[9000 rows x 2 columns]"
      ]
     },
     "execution_count": 3,
     "metadata": {},
     "output_type": "execute_result"
    }
   ],
   "source": [
    "data_train"
   ]
  },
  {
   "cell_type": "code",
   "execution_count": 4,
   "id": "0d1a8df7",
   "metadata": {},
   "outputs": [
    {
     "data": {
      "text/html": [
       "<div>\n",
       "<style scoped>\n",
       "    .dataframe tbody tr th:only-of-type {\n",
       "        vertical-align: middle;\n",
       "    }\n",
       "\n",
       "    .dataframe tbody tr th {\n",
       "        vertical-align: top;\n",
       "    }\n",
       "\n",
       "    .dataframe thead th {\n",
       "        text-align: right;\n",
       "    }\n",
       "</style>\n",
       "<table border=\"1\" class=\"dataframe\">\n",
       "  <thead>\n",
       "    <tr style=\"text-align: right;\">\n",
       "      <th></th>\n",
       "      <th>label</th>\n",
       "      <th>content</th>\n",
       "    </tr>\n",
       "  </thead>\n",
       "  <tbody>\n",
       "    <tr>\n",
       "      <th>0</th>\n",
       "      <td>فناوری</td>\n",
       "      <td>بعد از اعلام لیست ۲۳ شرکت مجاز ثبت سفارش و ارا...</td>\n",
       "    </tr>\n",
       "    <tr>\n",
       "      <th>1</th>\n",
       "      <td>فرهنگی/هنری</td>\n",
       "      <td>یک استاد علم قرائت قرآن کریم، گفت: ریشه موسیقی...</td>\n",
       "    </tr>\n",
       "    <tr>\n",
       "      <th>2</th>\n",
       "      <td>حوادث</td>\n",
       "      <td>آتش سوزی های زنجیره ای جنگل های زاگرس در استان...</td>\n",
       "    </tr>\n",
       "    <tr>\n",
       "      <th>3</th>\n",
       "      <td>فناوری</td>\n",
       "      <td>استفاده از سرویس‌های iMassage یا Facetime محصو...</td>\n",
       "    </tr>\n",
       "    <tr>\n",
       "      <th>4</th>\n",
       "      <td>حوادث</td>\n",
       "      <td>دادستان عمومی و انقلاب یاسوج گفت: 10 میلیون دل...</td>\n",
       "    </tr>\n",
       "    <tr>\n",
       "      <th>...</th>\n",
       "      <td>...</td>\n",
       "      <td>...</td>\n",
       "    </tr>\n",
       "    <tr>\n",
       "      <th>1110</th>\n",
       "      <td>ورزشی</td>\n",
       "      <td>عضو هیات مدیره باشگاه استقلال گفت:من هیچوقت به...</td>\n",
       "    </tr>\n",
       "    <tr>\n",
       "      <th>1111</th>\n",
       "      <td>حوادث</td>\n",
       "      <td>مدیر آموزش و پرورش شهرستان جیرفت از دستگیری دا...</td>\n",
       "    </tr>\n",
       "    <tr>\n",
       "      <th>1112</th>\n",
       "      <td>سیاسی</td>\n",
       "      <td>رییس جمهور با بیان اینکه در هفته گذشته هیچ شهر...</td>\n",
       "    </tr>\n",
       "    <tr>\n",
       "      <th>1113</th>\n",
       "      <td>فناوری</td>\n",
       "      <td>دارندگان مدل‌های اعلام‌شده گوشی‌های هوآوی، می‌...</td>\n",
       "    </tr>\n",
       "    <tr>\n",
       "      <th>1114</th>\n",
       "      <td>سلامت</td>\n",
       "      <td>مطالعه ای جدید نشان داده است که احتمال مثبت بو...</td>\n",
       "    </tr>\n",
       "  </tbody>\n",
       "</table>\n",
       "<p>1115 rows × 2 columns</p>\n",
       "</div>"
      ],
      "text/plain": [
       "            label                                            content\n",
       "0          فناوری  بعد از اعلام لیست ۲۳ شرکت مجاز ثبت سفارش و ارا...\n",
       "1     فرهنگی/هنری  یک استاد علم قرائت قرآن کریم، گفت: ریشه موسیقی...\n",
       "2           حوادث  آتش سوزی های زنجیره ای جنگل های زاگرس در استان...\n",
       "3          فناوری  استفاده از سرویس‌های iMassage یا Facetime محصو...\n",
       "4           حوادث  دادستان عمومی و انقلاب یاسوج گفت: 10 میلیون دل...\n",
       "...           ...                                                ...\n",
       "1110        ورزشی  عضو هیات مدیره باشگاه استقلال گفت:من هیچوقت به...\n",
       "1111        حوادث  مدیر آموزش و پرورش شهرستان جیرفت از دستگیری دا...\n",
       "1112        سیاسی  رییس جمهور با بیان اینکه در هفته گذشته هیچ شهر...\n",
       "1113       فناوری  دارندگان مدل‌های اعلام‌شده گوشی‌های هوآوی، می‌...\n",
       "1114        سلامت  مطالعه ای جدید نشان داده است که احتمال مثبت بو...\n",
       "\n",
       "[1115 rows x 2 columns]"
      ]
     },
     "execution_count": 4,
     "metadata": {},
     "output_type": "execute_result"
    }
   ],
   "source": [
    "data_test"
   ]
  },
  {
   "cell_type": "code",
   "execution_count": 5,
   "id": "af7d5743",
   "metadata": {},
   "outputs": [],
   "source": [
    "stop_words = set(stopwords_list(\"stopwords.txt\"))"
   ]
  },
  {
   "cell_type": "code",
   "execution_count": 6,
   "id": "5885a6ce",
   "metadata": {},
   "outputs": [
    {
     "name": "stdout",
     "output_type": "stream",
     "text": [
      "['گزارشهای', 'منتشر', 'حاکی', 'کاربران', 'تلگرام', 'مناطقی', 'جهان', 'اروپا', 'خاورمیانه', 'مشکل', 'مواجه', 'شدهاند', 'گزارش', 'ایسنا', 'نقل', 'تلگرام', 'دقایقی', 'پیام', 'رسان', 'تلگرام', 'صفحه', 'توییتر', 'دسترسی', 'کاربران', 'اپلیکیشن', 'اروپا', 'خاورمیانه', 'مشکل', 'مواجه', 'شده_است', 'طبق', 'پیام', 'نظر', 'میرسد', 'منشا', 'اختلالات', 'ظهر', 'شنبه', 'خارجی', 'پیام', 'رسان', 'ارتباطی', 'کشور', 'پیام', 'رسان', 'خصوص', 'متخصصان', 'تلگرام', 'متوجه', 'اختلالی', 'شدهاند', 'بررسی', 'برطرف', 'مشکل', 'مربوطه', 'امید', 'زودی', 'اختلال', 'رفع', 'کاربران', 'حسابهای', 'کاربری', 'تلگرام', 'دسترسی']\n"
     ]
    }
   ],
   "source": [
    "normalizer = Normalizer()\n",
    "def clean_data(data):\n",
    "    for i in range(len(data['content'])):\n",
    "        sentence = normalizer.normalize(data['content'][i])\n",
    "        words = word_tokenize(sentence)\n",
    "        final_words = [word.replace('\\u200c', '') for word in words]\n",
    "        final_words = [word for word in final_words if word not in stop_words]\n",
    "        data['content'][i] = final_words\n",
    "\n",
    "clean_data(data_train) \n",
    "clean_data(data_test)       \n",
    "print(data_train['content'][0])"
   ]
  },
  {
   "cell_type": "markdown",
   "id": "3c9a9dda",
   "metadata": {},
   "source": [
    "As you can see, first we read the information of the files, then we normalize 'content' col and do not put in output words that are similar to stopwords.\n",
    "\n",
    "#### Question 1\n",
    "stemming : stemming is the process of reducing inflected (or sometimes derived) words to their word stem, base or root form—generally a written word form. \n",
    "\n",
    "lemmatization : the process of grouping together the inflected forms of a word so they can be analysed as a single item, identified by the word's lemma, or dictionary form.\n",
    "\n",
    "diffrence :\n",
    "Stemming usually refers to a crude heuristic process that chops off the ends of words in the hope of achieving this goal correctly most of the time, and often includes the removal of derivational affixes. Lemmatization usually refers to doing things properly with the use of a vocabulary and morphological analysis of words, normally aiming to remove inflectional endings only and to return the base or dictionary form of a word, which is known as the lemma.\n",
    "\n",
    "https://d2mk45aasx86xg.cloudfront.net/difference_between_Stemming_and_lemmatization_8_11zon_452539721d.webp"
   ]
  },
  {
   "cell_type": "markdown",
   "id": "640c5546",
   "metadata": {},
   "source": [
    "# Part 2 : problem process"
   ]
  },
  {
   "cell_type": "code",
   "execution_count": 7,
   "id": "ba4b1f09",
   "metadata": {},
   "outputs": [],
   "source": [
    "labels = list(set(data_train['label']))\n",
    "mistakes = []\n",
    "labels_freq_count = [0 for i in range(len(labels))] \n",
    "labels_dicts = [{} for i in range(len(labels))] \n",
    "\n",
    "for i in range(data_train.shape[0]):\n",
    "    label_index = labels.index(data_train['label'][i])\n",
    "    for word in data_train['content'][i]:\n",
    "        if word in labels_dicts[label_index]:\n",
    "            labels_dicts[label_index][word] += 1\n",
    "            labels_freq_count[label_index] += 1\n",
    "        else:\n",
    "            labels_dicts[label_index][word] = 1\n",
    "            labels_freq_count[label_index] += 1\n",
    "            "
   ]
  },
  {
   "cell_type": "markdown",
   "id": "25ebbdab",
   "metadata": {},
   "source": [
    "In this part , put words in dict base of its label. So every lable has dict and in this dict there is words and their frequency.\n",
    "\n",
    "In next step we try to predict label of contents"
   ]
  },
  {
   "cell_type": "code",
   "execution_count": 8,
   "id": "7dd57e78",
   "metadata": {},
   "outputs": [
    {
     "name": "stdout",
     "output_type": "stream",
     "text": [
      "the accuracy without smoothing method : 0.2789237668161435\n"
     ]
    }
   ],
   "source": [
    "tp = dict(zip(labels, [0] * len(labels))) \n",
    "fp = dict(zip(labels, [0] * len(labels))) \n",
    "fn = dict(zip(labels, [0] * len(labels))) \n",
    "\n",
    "def get_feature_prob(word_list, freq_count, word):\n",
    "    if (word not in word_list):\n",
    "        return -inf\n",
    "    else:\n",
    "        return log((word_list[word]) / freq_count)\n",
    "    \n",
    "predict_label = [''] * data_test.shape[0]\n",
    "corrected = 0\n",
    "\n",
    "for i in range(data_test.shape[0]):\n",
    "    labels_prob = dict(zip(labels, [0] * len(labels))) \n",
    "    for word in data_test['content'][i]:\n",
    "        for label in labels_prob:\n",
    "            label_index = labels.index(label)\n",
    "            labels_prob[label] += get_feature_prob(labels_dicts[label_index], labels_freq_count[label_index], word)\n",
    "    \n",
    "    predict_label = max(labels_prob, key=labels_prob.get)\n",
    "    \n",
    "    label = data_test['label'][i]\n",
    "    if predict_label == data_test['label'][i]:\n",
    "        corrected += 1\n",
    "        tp[label] += 1\n",
    "    else :\n",
    "        fn[label] += 1\n",
    "        fp[predict_label] += 1\n",
    "\n",
    "print(\"the accuracy without smoothing method :\", corrected / data_test.shape[0])"
   ]
  },
  {
   "cell_type": "markdown",
   "id": "0291a9ef",
   "metadata": {},
   "source": [
    "#### Question 2\n",
    "\n",
    "$$ P(c|x) = \\frac{P(x|c)P(c)}{P(x)} $$\n",
    "\n",
    "* Evidence : the probability of the $x$ used to update the prior. \n",
    "\n",
    "In our case, the probability of the occurness of the word $x$ in the given text. computed by dividing the $x$ freq by the sum of the freq of all the text words.W e can ignore it because of we do not need to compute this probability because we want to compare two classes and this parameter is same for all classes.\n",
    "\n",
    "* Likelihood : if an event $c$ has already occurred, the probability that the event $x$ will occur given the knowledge. \n",
    "\n",
    "In our case, likelihood is the probability of the occurness of the word $x$ given the class $c$ (from 6 classes). computed by dividing the $x$ freq in the class $c$ by the sum of freq of all the words in the class $c$. \n",
    "\n",
    "* Prior : the probability of the the class $c$. \n",
    "\n",
    "In our case is In training data is symmetric. Therefore, we do not need to compute it (in all labels is same). But in test data is not symmetric\n",
    "\n",
    "* Posterior : if an event $x$ has already occurred, the probability that the event $c$ will occur given the knowledge. \n",
    "\n",
    "In our case, posterior is the probability of the occurness of the class $c$ given the word $x$. computed by the given formula. We will compare this probability for 6 classes to choose one of the classes for the given content. "
   ]
  },
  {
   "cell_type": "markdown",
   "id": "5b6b9e55",
   "metadata": {},
   "source": [
    "#### Bigrams\n",
    "\n",
    "#### Question 3\n",
    "example:\n",
    "\n",
    "در مراسم تدفین شرکت میکنم\n",
    "\n",
    "در فلان شرکت سرمایه گذاری میکنم\n",
    "\n",
    "It helps to predict much better. Because we save more structure of that type of sentence and meaning of that and consider place of word in sentence. So bigrams increase accuracy. \n",
    "\n",
    "n-bigrams can be better or can't. This is related to n and the sentences we predict. but generally if n is not too big, the result of predict is better."
   ]
  },
  {
   "cell_type": "markdown",
   "id": "0ab0c5a9",
   "metadata": {},
   "source": [
    "### Additive Smoothing"
   ]
  },
  {
   "cell_type": "code",
   "execution_count": 9,
   "id": "86659651",
   "metadata": {},
   "outputs": [
    {
     "name": "stdout",
     "output_type": "stream",
     "text": [
      "the accuracy with smoothing method : 0.8896860986547085\n"
     ]
    }
   ],
   "source": [
    "tp_with_additive_smoothing = dict(zip(labels, [0] * len(labels))) \n",
    "fp_with_additive_smoothing = dict(zip(labels, [0] * len(labels))) \n",
    "fn_with_additive_smoothing = dict(zip(labels, [0] * len(labels))) \n",
    "\n",
    "ZERO = 1/9999999999999999999999999999999999999\n",
    "\n",
    "def get_feature_prob(word_list, freq_count, word):\n",
    "    if (word not in word_list):\n",
    "        return log(1 + ZERO)\n",
    "    else:\n",
    "        return log(1 + (word_list[word]) / freq_count)\n",
    "    \n",
    "predict_label = [''] * data_test.shape[0]\n",
    "corrected = 0\n",
    "\n",
    "for i in range(data_test.shape[0]):\n",
    "    labels_prob = dict(zip(labels, [0] * len(labels))) \n",
    "    for word in data_test['content'][i]:\n",
    "        for label in labels_prob:\n",
    "            label_index = labels.index(label)\n",
    "            labels_prob[label] += get_feature_prob(labels_dicts[label_index], labels_freq_count[label_index], word)\n",
    "    \n",
    "    predict_label = max(labels_prob, key=labels_prob.get)\n",
    "    \n",
    "    label = data_test['label'][i]\n",
    "    if predict_label == data_test['label'][i]:\n",
    "        corrected += 1\n",
    "        tp_with_additive_smoothing[label] += 1\n",
    "    else :\n",
    "        mistakes.append({'label':label, 'predict_label':predict_label, 'sentece': \" \".join(data_test['content'][i])})\n",
    "        fn_with_additive_smoothing[label] += 1\n",
    "        fp_with_additive_smoothing[predict_label] += 1\n",
    "\n",
    "print(\"the accuracy with smoothing method :\", corrected / data_test.shape[0])"
   ]
  },
  {
   "cell_type": "markdown",
   "id": "7aa784f6",
   "metadata": {},
   "source": [
    "We change the computation of class probablity by adding 1 to log and delete -inf for zero. Because of this we have better prediction and if a word is not in content, we handle and balance it better and put not pure -inf in computation.\n",
    "\n",
    "#### Question 4\n",
    "\n",
    "There is word or words contained only one type or some type of classes, Naive Bayes chooses that label as the answer which might be wrong in some of the cases.\n",
    "\n",
    "$P(x|c) = 0$ means word $x$ hasn't appeared in label $c$ .\n",
    "\n",
    "because of choosing the label which maximizes the sum $ sum_{i=1}^{n} log(P(x_i | c)) $ , and if $log(0) = - \\infty$ some label (might the true label) never will be chosen as the label\n",
    "\n",
    "#### Question 5\n",
    "\n",
    "is a technique used to smooth categorical data. Given a set of observation counts $ x   =   ⟨ x 1 , x 2 , … , x d ⟩ $ from a d -dimensional multinomial distribution with N trials, a \"smoothed\" version of the counts gives the estimator\n",
    "\n",
    "Here's how we calculate probability:\n",
    "\n",
    "$$ P(Word|Class) = \\frac{Word Count + \\alpha}{Total Words} $$\n",
    "\n",
    "How it is help ?\n",
    "\n",
    "As mentioned in Question 4, alpha will avoid the $- \\infty$ problem mentioned in since the fraction will never be equal to 0 because of the positive $\\alpha$ in the numerator.\n",
    "\n",
    "In next step we draw some plots of most appeared words."
   ]
  },
  {
   "cell_type": "code",
   "execution_count": 10,
   "id": "3d1a09e5",
   "metadata": {},
   "outputs": [
    {
     "data": {
      "image/png": "[encoded data removed]",
      "text/plain": [
       "<Figure size 640x480 with 1 Axes>"
      ]
     },
     "metadata": {},
     "output_type": "display_data"
    },
    {
     "data": {
      "image/png": "[encoded data removed]",
      "text/plain": [
       "<Figure size 640x480 with 1 Axes>"
      ]
     },
     "metadata": {},
     "output_type": "display_data"
    },
    {
     "data": {
      "image/png": "[encoded data removed]",
      "text/plain": [
       "<Figure size 640x480 with 1 Axes>"
      ]
     },
     "metadata": {},
     "output_type": "display_data"
    },
    {
     "data": {
      "image/png": "[encoded data removed]",
      "text/plain": [
       "<Figure size 640x480 with 1 Axes>"
      ]
     },
     "metadata": {},
     "output_type": "display_data"
    },
    {
     "data": {
      "image/png": "[encoded data removed]",
      "text/plain": [
       "<Figure size 640x480 with 1 Axes>"
      ]
     },
     "metadata": {},
     "output_type": "display_data"
    },
    {
     "data": {
      "image/png": "[encoded data removed]",
      "text/plain": [
       "<Figure size 640x480 with 1 Axes>"
      ]
     },
     "metadata": {},
     "output_type": "display_data"
    }
   ],
   "source": [
    "for i in range(len(labels)):\n",
    "    temp_dict = dict(sorted(labels_dicts[i].items(), key = itemgetter(1), reverse = True)[:len(labels)])\n",
    "    keys = []\n",
    "    for key in temp_dict.keys():\n",
    "        keys.append(get_display(arabic_reshaper.reshape(key)))\n",
    "    values = temp_dict.values()\n",
    "    plt.bar(keys, values)\n",
    "    plt.xlabel(get_display(arabic_reshaper.reshape(labels[i])))\n",
    "    plt.ylabel('count')\n",
    "    plt.show()\n"
   ]
  },
  {
   "cell_type": "markdown",
   "id": "e02dcc25",
   "metadata": {},
   "source": [
    "# Part 3 : evaluation\n",
    "\n",
    "We write again formulas:\n",
    "\n",
    "$$accuracy = \\frac{TP + TN}{TP + FN + TN + FP}$$\n",
    "\n",
    "$$Precision = \\frac{TP}{TP + FP}$$\n",
    "\n",
    "$$Recall = \\frac{TP}{TP + FN}$$\n",
    "\n",
    "$$F1 = \\frac{2 \\times precision \\times recall}{precision + recall}$$\n",
    "\n",
    "$$TP = true positive, TN = true negative, FP = false positive, FN = false negative$$\n",
    "\n",
    "**Note** : accuracy already computed."
   ]
  },
  {
   "cell_type": "markdown",
   "id": "cc7bfda7",
   "metadata": {},
   "source": [
    "#### Qestion 7\n",
    "\n",
    "The recall value for will be 100% if the model always labels every data a specific class(like sport) and this is bad. So recall is not enough for evaluating.\n",
    "\n",
    "Consider a model that wrongly predict (except one content that is really recommended) all the contetns like sports class. Therefore the precision of this model will be 1.00 and this bad. So precision alone is not enough to evaluate a model.\n",
    "\n",
    "#### Qestion 8\n",
    "\n",
    "The F1 score is the harmonic mean of precision but the recall taking both into account. because of harmonic mean punishes extreme values precision uses the harmonic mean instead of a simple average. Therefore A classifier that has a precision of 1.0 and a recall of 0.0 has simple average = 0.5 but F1 = 0.\n",
    "\n",
    "#### Qestion 9\n",
    "\n",
    "* Micro computes these : F1 by value total tp, fn, fp (the value of the prediction for each label in the dataset is not matter)\n",
    "\n",
    "* Macro computes these : F1 for each label and returns the average (the proportion for each label in the dataset is not matter).\n",
    "\n",
    "* Weighted computes these : like macro F1 for each label and returns the average (but the proportion for each label in the dataset is not matter).\n",
    "\n",
    "without additive smoothing\n",
    "\n",
    "---\n",
    "\n",
    "$$Macro average = \\frac{1.52}{6} = 0.25$$\n",
    "\n",
    "---\n",
    "\n",
    "$$Micro average = 2 \\times \\frac{0.27 \\times 0.27}{0.27 + 0.27} = 0.27$$\n",
    "\n",
    "---\n",
    "\n",
    "$$Weighted average = \\frac{472286}{1820817} = 0.26$$\n",
    "\n",
    "---\n",
    "\n",
    "with additive smoothing\n",
    "\n",
    "---\n",
    "\n",
    "$$Macro average = \\frac{5.32}{6} = 0.89$$\n",
    "\n",
    "---\n",
    "\n",
    "$$Micro average = \\frac{2\\times 0.89 \\times 0.89}{0.89 + 0.89} = 0.89$$\n",
    "\n",
    "---\n",
    "\n",
    "$$Weighted average = \\frac{1612952}{1820817} = 0.88$$\n",
    "\n",
    "---\n",
    "\n",
    "#### Qestion 10\n"
   ]
  },
  {
   "cell_type": "markdown",
   "id": "bb18da48",
   "metadata": {},
   "source": [
    "#### For without additive smoothing"
   ]
  },
  {
   "cell_type": "code",
   "execution_count": 11,
   "id": "f561570d",
   "metadata": {},
   "outputs": [
    {
     "name": "stdout",
     "output_type": "stream",
     "text": [
      "label : سیاسی\n",
      "TP (true positive) : 192\n",
      "FP (false positive) : 786\n",
      "FN (false negative) : 8\n",
      "Precision : 0.19631901840490798\n",
      "Recall : 0.96\n",
      "F1 : 0.32597623089983024\n",
      "\n",
      "label : فرهنگی/هنری\n",
      "TP (true positive) : 31\n",
      "FP (false positive) : 7\n",
      "FN (false negative) : 149\n",
      "Precision : 0.8157894736842105\n",
      "Recall : 0.17222222222222222\n",
      "F1 : 0.28440366972477066\n",
      "\n",
      "label : فناوری\n",
      "TP (true positive) : 12\n",
      "FP (false positive) : 4\n",
      "FN (false negative) : 156\n",
      "Precision : 0.75\n",
      "Recall : 0.07142857142857142\n",
      "F1 : 0.13043478260869565\n",
      "\n",
      "label : حوادث\n",
      "TP (true positive) : 21\n",
      "FP (false positive) : 5\n",
      "FN (false negative) : 179\n",
      "Precision : 0.8076923076923077\n",
      "Recall : 0.105\n",
      "F1 : 0.18584070796460175\n",
      "\n",
      "label : سلامت\n",
      "TP (true positive) : 20\n",
      "FP (false positive) : 1\n",
      "FN (false negative) : 157\n",
      "Precision : 0.9523809523809523\n",
      "Recall : 0.11299435028248588\n",
      "F1 : 0.20202020202020202\n",
      "\n",
      "label : ورزشی\n",
      "TP (true positive) : 35\n",
      "FP (false positive) : 1\n",
      "FN (false negative) : 155\n",
      "Precision : 0.9722222222222222\n",
      "Recall : 0.18421052631578946\n",
      "F1 : 0.30973451327433627\n",
      "\n",
      "Macro average: 0.23973501774873943\n",
      "Micro average: 0.2789237668161435\n",
      "Weighted average: 0.23843769945983034\n"
     ]
    }
   ],
   "source": [
    "F1_sum, weighted_sum, overall_size, precision_numerator, precision_denominator, recall_denominator = 0, 0, 0, 0, 0, 0\n",
    "for label in labels:\n",
    "    recall = tp[label] / (tp[label] + fn[label])\n",
    "    precision = tp[label] / (tp[label] + fp[label])\n",
    "    F1 = (2 * precision * recall) / (precision + recall)\n",
    "    \n",
    "    print(\"label :\", label)\n",
    "    print(\"TP (true positive) :\", tp[label])\n",
    "    print(\"FP (false positive) :\", fp[label])\n",
    "    print(\"FN (false negative) :\", fn[label])\n",
    "    print(\"Precision :\", precision)\n",
    "    print(\"Recall :\", recall)\n",
    "    print(\"F1 :\", F1)\n",
    "    print()\n",
    "    label_index = labels.index(label)\n",
    "    weighted_sum += F1 * labels_freq_count[label_index]\n",
    "    overall_size += labels_freq_count[label_index]\n",
    "    precision_numerator += tp[label]\n",
    "    precision_denominator += tp[label] + fp[label]\n",
    "    recall_denominator += tp[label] + fn[label]\n",
    "    F1_sum += F1\n",
    "prec = precision_numerator / precision_denominator\n",
    "reca = precision_numerator / recall_denominator\n",
    "print(\"Macro average:\", F1_sum / len(labels))\n",
    "print(\"Micro average:\", 2 * prec * reca / (prec + reca))\n",
    "print(\"Weighted average:\", weighted_sum / overall_size)"
   ]
  },
  {
   "cell_type": "markdown",
   "id": "a491c749",
   "metadata": {},
   "source": [
    "#### For with additive smoothing"
   ]
  },
  {
   "cell_type": "code",
   "execution_count": 12,
   "id": "c38fde3d",
   "metadata": {},
   "outputs": [
    {
     "name": "stdout",
     "output_type": "stream",
     "text": [
      "label : سیاسی\n",
      "TP (true positive) : 183\n",
      "FP (false positive) : 37\n",
      "FN (false negative) : 17\n",
      "Precision: 0.8318181818181818\n",
      "Recall: 0.915\n",
      "F1: 0.8714285714285714\n",
      "\n",
      "label : فرهنگی/هنری\n",
      "TP (true positive) : 123\n",
      "FP (false positive) : 4\n",
      "FN (false negative) : 57\n",
      "Precision: 0.968503937007874\n",
      "Recall: 0.6833333333333333\n",
      "F1: 0.8013029315960912\n",
      "\n",
      "label : فناوری\n",
      "TP (true positive) : 143\n",
      "FP (false positive) : 13\n",
      "FN (false negative) : 25\n",
      "Precision: 0.9166666666666666\n",
      "Recall: 0.8511904761904762\n",
      "F1: 0.882716049382716\n",
      "\n",
      "label : حوادث\n",
      "TP (true positive) : 191\n",
      "FP (false positive) : 37\n",
      "FN (false negative) : 9\n",
      "Precision: 0.8377192982456141\n",
      "Recall: 0.955\n",
      "F1: 0.8925233644859814\n",
      "\n",
      "label : سلامت\n",
      "TP (true positive) : 167\n",
      "FP (false positive) : 13\n",
      "FN (false negative) : 10\n",
      "Precision: 0.9277777777777778\n",
      "Recall: 0.943502824858757\n",
      "F1: 0.9355742296918768\n",
      "\n",
      "label : ورزشی\n",
      "TP (true positive) : 185\n",
      "FP (false positive) : 19\n",
      "FN (false negative) : 5\n",
      "Precision: 0.9068627450980392\n",
      "Recall: 0.9736842105263158\n",
      "F1: 0.9390862944162437\n",
      "\n",
      "Macro average: 0.8871052401669135\n",
      "Micro average: 0.8896860986547085\n",
      "Weighted average: 0.8858401750218107\n"
     ]
    }
   ],
   "source": [
    "F1_sum, weighted_sum, overall_size, precision_numerator, precision_denominator, recall_denominator = 0, 0, 0, 0, 0, 0\n",
    "for label in labels:\n",
    "    recall = tp_with_additive_smoothing[label] / (tp_with_additive_smoothing[label] + fn_with_additive_smoothing[label])\n",
    "    precision = tp_with_additive_smoothing[label] / (tp_with_additive_smoothing[label] + fp_with_additive_smoothing[label])\n",
    "    F1 = (2 * precision * recall) / (precision + recall)\n",
    "    \n",
    "    print(\"label :\", label)\n",
    "    print(\"TP (true positive) :\", tp_with_additive_smoothing[label])\n",
    "    print(\"FP (false positive) :\", fp_with_additive_smoothing[label])\n",
    "    print(\"FN (false negative) :\", fn_with_additive_smoothing[label])\n",
    "    print(\"Precision:\", precision)\n",
    "    print(\"Recall:\", recall)\n",
    "    print(\"F1:\", F1)\n",
    "    print()\n",
    "    label_index = labels.index(label)\n",
    "    weighted_sum += F1 * labels_freq_count[label_index]\n",
    "    overall_size += labels_freq_count[label_index]\n",
    "    precision_numerator += tp_with_additive_smoothing[label]\n",
    "    precision_denominator += tp_with_additive_smoothing[label] + fp_with_additive_smoothing[label]\n",
    "    recall_denominator += tp_with_additive_smoothing[label] + fn_with_additive_smoothing[label]\n",
    "    F1_sum += F1\n",
    "prec = precision_numerator / precision_denominator\n",
    "reca = precision_numerator / recall_denominator\n",
    "print(\"Macro average:\", F1_sum / len(labels))\n",
    "print(\"Micro average:\", 2 * prec * reca / (prec + reca))\n",
    "print(\"Weighted average:\", weighted_sum / overall_size)"
   ]
  },
  {
   "cell_type": "markdown",
   "id": "ac743d8a",
   "metadata": {},
   "source": [
    "\n",
    "#### Qestion 11\n",
    "\n",
    "The overall performance is better when we use additive smoothing.\n",
    "\n",
    "#### Qestion 12\n",
    "\n"
   ]
  },
  {
   "cell_type": "code",
   "execution_count": 13,
   "id": "7ac1777e",
   "metadata": {},
   "outputs": [
    {
     "name": "stdout",
     "output_type": "stream",
     "text": [
      "{'label': 'فرهنگی/هنری', 'predict_label': 'سیاسی', 'sentece': 'چهارشنبه تیر ۱۴۰۱ اتفاق نادر جالبی رخ تصادفی برنامهریزی اطلاع قبلی شکل محل انجمن صنفی روزنامهنگاران استان تهران رونمایی صداوسیما معاونان سازمان کلیات واژۀ مشترکاند ربط شباهتی اولی منظور سند دومی سند حالی تعبیر دکتر وب۲ زودی وارد وب۳ خواهیم_شد رادیو تلویزیون رسانۀ مدرن تعبیری رسانۀ تلویزیون معنی عام جهانی مشخصا صدا سیما ایران رایگانترین گستردهترین امکان وقتگذرانی ارتباطی رایگان پرداخت اشتراک بودجۀ جیب ملت تأمین اولی منظور رسانه رسانه بودجۀ حکومتی مخاطبمحور دومی تعبیر رسانه ملی باقی ترجیح میدهند مفاهیم ایدیولوژیک عرصۀ جنگ میدانند واژههای جنگ قرارگاه حجم عظیم پرسنل بودجههای کلان انحصار چنگ انداختن شبکۀ نمایش خانگی توجیه اولی مراد واژۀ ملی ملی معطوف ایران دومی مراد ملی معطوف نظام سیاسی ملی زبان ملی سینمای ملی موسیقی ملی بها میداد نوشتهای آیین اولی وابستگی دولتی حکومتی شایبۀ تبلیغاتی حضور چهرههای شاخص رسانهای استادان شاخص ارتباطات معیارهای حرفهای جهانی شناختهشده برگزار دومی ذیل رسانه ملی اهداف سیاسی ایدیولوژیک جدای معیارهای شناخته رسانهای میتوان حدس بیحضور عالمان نشستی اداری محتمل معاونان تحصیلات مرتبط داشته_باشند صفت نبودند اتفاق نمادین نشاندهندۀ ریشۀ مشکل رسانهها ایران علمی موضوع رسانه عرصه رسمی بودجههای کلان تومانی سال قریب ۵۰ کارمند انواع محدودیتها مضیقهها دست گریبان چرخ اقتصاد نحیف یارانه نمیگردد جدای زبان مشترک دچار اختلال واژۀ سند رسانه ملی مراد کارمندان ادارۀ سازمانی صدا سیما ۱۲ محور فعالیت منظور حاصل چالش کشاکش رسانههای چاپی کاغذی رویگردان شدهاند ایران پایینترین نرخ روزنامهخوانی جهان – جهان – سقوط اخبار صداوسیما اثبات مردن حسین عبدالباقی کشوی سردخانه ایهاالناس ! باور جنازه متعلق مالک سازندۀ متروپل آبادان دروغ نگفتیم گرفتار افتضاح رسوایی کارشناس کارمند گفته_بودند انگلیسی بزن بنده خدا وسط ماجرا فارسی لو ! نویسندۀ سطور سخنرانان حاضران نشست رونمایی سند ملی رسانه محل انجمن صنفی روزنامه نگاران استادان ارتباطات دکتر محسنیانراد آموخت مقدمه سند موازین حرفهای منطبق میتوان بینی متن مفصل حاصل گزارش تخصصی پژوهشی کاری درخور پیمان جبلی ۱۲ محور تحول محتوای برنامههای صدا وسیما شرح ادبیات سند ملی رسانه روزنامهنگاران عاری مفاهیم سیاسی ایدیولوژیک منطبق علوم ارتباطات نظریات مدرن رسانهها مبتنی مشاورههای برجستهترین استادان ارتباطات روزنامهنگاری سند تحول صدا سیما پر ایدیولوژیک سیاسی مفاهیم تخصصی رسانهای آدم یاد اهداف سازمان تبلیغات اسلامی میاندازد صدا سیما دستگاه وسیع حجیم تبلیغاتی پروپاگاندایی نقدی رویکرد صدا سیما اصرار ذیل رسانۀ ملی توصیف واژه تعاریف خاص طبیعی جبلی مأموریت سازمان اهداف متحول محورها علم رسانه ارتباطی میتوانند رسانههای رقابت مقابله عین ۱۲ محور سازمان تبلیغات اسلامی میتوان پیشبینی اهداف محقق سازمان صدا وسیما سازمان تبلیغات اسلامی تبدیل خواهد_شد سازمان موفق سازمان موفق خواهد_بود لحاظ اداری سازمانی شورای هماهنگی تبلیغات اسلامی منظور تشکیلات تبلیغاتی خاص منتها سازمان تبلیغات طول سال تعداد شرکت کنندگان راهپیمایی مهم سراسری برنامهیزی جشنهای دهۀ فجر ارزیابی سازمان صدا سیما لحظهبهلحظه ذره مخاطبان داخلی خارجی مدلهای رسانهای برنامهریزی تبلیغاتی کارکرد مهم صدا سیما بدانیم ۴۳ سال زبان رؤسای سازمان ۱۲ محور اطلاعرسانی سرگرمی آموزش معطوف رویکرد مربوط سند بوده_باشند تحولی اوصاف صدا وسیما سازمان تبلیغات اسلامی ادغام صدا وسیما تبلیغات رسمی تغییر رسانه نخواهد_بود ملی کما فوتبال فوتبال کمک زلزلهزدهها بازی نمیتوان بازیکنان میتوانند دست توپ لمس وقت فوتبال هندبال سند تحول صدا سیما سازمان تبلیغات ۱۲ رویکرد محور شبکۀ افق شبکهها مرتبط میتوان صدا سیما ذیل برد تحول سند تحول آموزش پرورش سند تحول متحول میشد دانشگاهها تحول کاغذ مینویسند واقعیتها تحمیل نیکولو ماکیاولی توصیه شهریار میگفت پیمانها شکستهشدن بسته_میشوند سیاق میتوان سندهای تحول متحول نشدن نوشته_میشوند ! آنتن صدا سیما کانال هزینه خوراکهای متنوع نیاز صبح شب نمیتوان غرب فحش تبلیغ مذهبی پخش طالبان ساز کاری تعطیل ! آغاز گفته_شد تقارن عجیب ساعتی پیمان جبلی معاونان صدا وسیما سند تحول سازمان متبوع رویکرد ایدیولوژیک رونمایی میکرد استاد راهنمای پایان نامۀ ضرورت کارگیری معیارهای حرفهای رسانهای سند ملی رسانه روزنامه نگاران پای میفشرد زمین آسمان یادداشت پرسش پایان میبرم پیشبینی شبکههای صداوسیما مضامینی عدالت گستری روایت پیشرفت جانبه جامعه ایرانی ایثار مقاومت شهادت توسعه سبک زندگی ایثارگرانه سبک زندگی خانواده محوریت سبک زندگی انقلابی هنر انقلاب معرفی شایسته آثار برجسته نقد غرب هجو غربزدگی تقویت هویت جهانی امتی بازنمایی قدرت ایران اسلامی جهان روایت جوان مومن انقلابی پیشرفت آینده الگوی زن انقلاب اسلامی مقابله ارتجاع تطهیر پهلوی روایت صحیح تاریخ اسلام ایران بسط الگوی حکمرانی مردمی بازخوانی نهادهای مردمی – انقلابی پر شمار مخاطبان اعتبار سازمان افزایش مییابد نوشته میگیرم صدا وسیما ذیل رسانه تعریف قرارگاه فرهنگی سازمان تبلیغات اسلامی نمیخواهد رسانه سازمانهای ادغام نشود پرسش مهمتر سرنا گشاد مینوازید پای صدا سیمای ایدیولوژیک اجرای ساعات پربینندۀ شب بنشینند شبکههای فارسی زبان ماهوارهای برنامههای ایدیولوژیک پخش افراد قید بزنند بروند سراغ طرفیها رسانهای – امنیتی هوشمندی میفهمید مدیران سازمان میفهمند غیرایدیولوژیکترین برنامه صداوسیما برنامههای مدیری فردوسیپور پای تلویزیون جمهوری اسلامی مینشاند منوتو ایران اینترنشنال نفع جمهوری اسلامی ایدیولوژیکترین وشعاریترین سبب مخاطب عام کانال تغییر سود رقباست ! محورها برنامۀ سرگرمکننده نداشته_باشید منوتو سوق فرصت بهره میبرند مستندهای تطهیر میپردازند نقض غرض نمیدانم میتوانم مظورم برسانم ! زبان مشترک مختل شده_است سال ۸۸ سفر هرات افغانستان مجری مراسم تعداد روزنامهها آزادی میبالید روزنامههای ایران روزنامهنگاران میهمان طعنه بزند دستشان ساطور همکاران روزنامهنگار خانم -که شوربختانه بعدتر کوچید رفت- واکنش ۷۰ درصد سواد نداشته_باشند روزنامه نخوانند تعداد روزنامه داشته_باشید ! حکایت صدا وسیما سند تحول جبلی دوشنبه شب خلقالله پای نود بنشینند میتوانید شعار ایدیولوژیک زیرنویس مفاهیمی خورد خلقالله نود حذف پسر تلاش نتواند عادل بینندۀ عام دگمه فشار میدهد ساعت پای شبه نود مزدک میرزایی ایران اینترنشنال مینشیند وقت افکار عمومی میدهند ظرافت سیاسی فرهنگی امنیتی رسانهای میفهمید شنیدم وقت قم میرفت عالمی انتقاد میکرد سریال حجاب خانم وعظ خطابه پخش توضیح میداد حاج ! بدهیم وقت تلویزیون خاموش برنامۀ سرگرمکننده داشته_باشیم میبینند !'}\n",
      "{'label': 'فرهنگی/هنری', 'predict_label': 'سیاسی', 'sentece': 'یورگن هابرماس فیلسوف جامعه شناس نامدار برجسته آلمانی نهمین دهه زندگی پر فراز نشیب آغاز گزارش دویچه وله سهشنبه ۱۸ ژوئن ۲۸ خرداد زادروز یورگن هابرماس فیلسوف جامعهشناس برجسته آلمانی برگزاری جشن تولد شخصیت بینالمللی پیامهای تبریک چهارسوی جهان آلمان سرازیر شدهاند فرانک والتر اشتاین مایر رئیس جمهوری فدرال آلمان پیام هابرماس خاطر تلاش حفاظت دموکراسی لیبرال زادگاهش تقویت همبستگی اتحادیه اروپا قدردانی مونیکا گروترز وزیر مشاور فرهنگی آلمان هابرماس فردی شخصیتی نامیده_است عشق وطنپرستی مبتنی قانون اساسی مبارزه زورکمپ بزرگترین معتبرترین انتشاراتیهای آلمان تازهترین کتاب هابرماس هفتصد صفحه بهزودی منتشر'}\n",
      "{'label': 'فرهنگی/هنری', 'predict_label': 'فناوری', 'sentece': 'اعتراض گسترده کاربران توییتر اظهارات وزیر امورخارجه آمریکا هشتگ انگلیسی پرشین گلف خلیج فارس توییتر گزارش خبرآنلاین رکس تیلرسون وزیر امورخارجه آمریکا اظهارات اخیرش کار واژهای مجعول خلیج فارس موجی اعتراضات شبکههای اجتماعی برانگیخت کاربران شبکههای اجتماعی توییتر اعتراض موضوع هشتگ انگلیسی PersianGulf موضوع سبب هشتگ مدتی توییتر'}\n",
      "{'label': 'سیاسی', 'predict_label': 'ورزشی', 'sentece': 'نمایندگان مجلس بیانیهای تاکید شروع بررسی لوایح \\u202aFATF\\u202c مجمع تشخیص مصلحت نظام نشانیهای غلط مشکلاتی راهاندازی اینستکس امکان انعقاد قرارداد خرید ایرباس امکان خرید واکسن امکان پرداخت مربیان فوتبال مهمتر نوسانات افزایش نرخ ارز \\u202aFATF\\u202c ربط داده_شده_است'}\n",
      "{'label': 'سیاسی', 'predict_label': 'حوادث', 'sentece': 'غلامحسین اژهای معاون رئیس قوه قضائیه برنامه دستخط صداوسیما اکبر طبری نفوذ چندانی دستگاه قضا مفاسد پوشش کارهای میشد پرونده روحالله زم افراد مواجه گروه آگاهانه خائنانه اطلاعات میدادند پرونده رئیس بانک مرکزی نقص دادسرا برگشت پرونده زودی دادگاه میرود برخیها فضای مجازی مسئولیت وزارت اطلاعات میگفتند امکان جرایم اقدام نمیکنند ! دستگاه قضا نیروهای جوانی تجربه گذشتگان حمل مصدر بروم'}\n"
     ]
    }
   ],
   "source": [
    "for m in mistakes[:5]:\n",
    "    print(m)"
   ]
  },
  {
   "cell_type": "markdown",
   "id": "11ff90b5",
   "metadata": {},
   "source": [
    "Reason :\n",
    "\n",
    "Some words of sentece very likely to be in another label. like \n",
    "\n",
    "بازی\n",
    "\n",
    "in first sentence can be in sport label. but this sentence is in \n",
    "\n",
    "هنری\n",
    "\n",
    "label. another example is sentence 5. there is two words \n",
    "\n",
    "مربیان , فوتبال\n",
    "\n",
    "that cause of predict of this sentence is sport"
   ]
  }
 ],
 "metadata": {
  "kernelspec": {
   "display_name": "Python 3 (ipykernel)",
   "language": "python",
   "name": "python3"
  },
  "language_info": {
   "codemirror_mode": {
    "name": "ipython",
    "version": 3
   },
   "file_extension": ".py",
   "mimetype": "text/x-python",
   "name": "python",
   "nbconvert_exporter": "python",
   "pygments_lexer": "ipython3",
   "version": "3.9.5"
  },
  "vscode": {
   "interpreter": {
    "hash": "58712966323307a1839e3de0f8fdda70b5859dc8df68da156fa57b5e32d288b6"
   }
  }
 },
 "nbformat": 4,
 "nbformat_minor": 5
}
